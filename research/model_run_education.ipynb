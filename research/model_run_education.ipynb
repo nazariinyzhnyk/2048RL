{
 "cells": [
  {
   "cell_type": "code",
   "execution_count": 114,
   "metadata": {},
   "outputs": [],
   "source": [
    "import pandas as pd\n",
    "import numpy as np\n",
    "import sys\n",
    "import random\n",
    "from keras.models import Model\n",
    "from keras.layers import Dense, Input\n",
    "from keras.utils import to_categorical\n",
    "from keras.callbacks import ModelCheckpoint, EarlyStopping\n",
    "sys.path.append(\"..\")"
   ]
  },
  {
   "cell_type": "code",
   "execution_count": 34,
   "metadata": {},
   "outputs": [],
   "source": [
    "import utils\n",
    "import game_logic.moves\n",
    "from random_moves import run_random"
   ]
  },
  {
   "cell_type": "code",
   "execution_count": 59,
   "metadata": {},
   "outputs": [],
   "source": [
    "dict_moves = {'up': 0, 'down': 1, 'left': 2, 'right': 3}"
   ]
  },
  {
   "cell_type": "code",
   "execution_count": 60,
   "metadata": {},
   "outputs": [
    {
     "name": "stdout",
     "output_type": "stream",
     "text": [
      "['down', 'up', 'right', 'right', 'up']\n"
     ]
    }
   ],
   "source": [
    "aa = tar_list[1][:5]\n",
    "print(aa)"
   ]
  },
  {
   "cell_type": "code",
   "execution_count": 63,
   "metadata": {},
   "outputs": [
    {
     "data": {
      "text/plain": [
       "[1, 0, 3, 3, 0]"
      ]
     },
     "execution_count": 63,
     "metadata": {},
     "output_type": "execute_result"
    }
   ],
   "source": [
    "list(map(dict_moves.get, aa))"
   ]
  },
  {
   "cell_type": "code",
   "execution_count": 35,
   "metadata": {},
   "outputs": [],
   "source": [
    "## Generate random sessions for initial training set"
   ]
  },
  {
   "cell_type": "code",
   "execution_count": 72,
   "metadata": {},
   "outputs": [],
   "source": [
    "sess_points, sess_bests, sess_moves, mov_df, tar_list = run_random(n_sessions=1000, filed_size=4, save_df=True)"
   ]
  },
  {
   "cell_type": "code",
   "execution_count": 73,
   "metadata": {},
   "outputs": [
    {
     "data": {
      "text/plain": [
       "1000"
      ]
     },
     "execution_count": 73,
     "metadata": {},
     "output_type": "execute_result"
    }
   ],
   "source": [
    "len(tar_list)"
   ]
  },
  {
   "cell_type": "code",
   "execution_count": 74,
   "metadata": {},
   "outputs": [
    {
     "data": {
      "text/plain": [
       "1000"
      ]
     },
     "execution_count": 74,
     "metadata": {},
     "output_type": "execute_result"
    }
   ],
   "source": [
    "len(tar_list)"
   ]
  },
  {
   "cell_type": "code",
   "execution_count": 75,
   "metadata": {},
   "outputs": [
    {
     "data": {
      "text/plain": [
       "1000"
      ]
     },
     "execution_count": 75,
     "metadata": {},
     "output_type": "execute_result"
    }
   ],
   "source": [
    "len(sess_points)"
   ]
  },
  {
   "cell_type": "code",
   "execution_count": 76,
   "metadata": {},
   "outputs": [
    {
     "data": {
      "text/plain": [
       "3140.0"
      ]
     },
     "execution_count": 76,
     "metadata": {},
     "output_type": "execute_result"
    }
   ],
   "source": [
    "np.max(sess_points)"
   ]
  },
  {
   "cell_type": "code",
   "execution_count": 77,
   "metadata": {},
   "outputs": [
    {
     "data": {
      "text/plain": [
       "256.0"
      ]
     },
     "execution_count": 77,
     "metadata": {},
     "output_type": "execute_result"
    }
   ],
   "source": [
    "np.max(sess_bests)"
   ]
  },
  {
   "cell_type": "code",
   "execution_count": 78,
   "metadata": {},
   "outputs": [
    {
     "data": {
      "text/plain": [
       "308"
      ]
     },
     "execution_count": 78,
     "metadata": {},
     "output_type": "execute_result"
    }
   ],
   "source": [
    "np.max(sess_moves)"
   ]
  },
  {
   "cell_type": "code",
   "execution_count": 79,
   "metadata": {},
   "outputs": [
    {
     "data": {
      "text/plain": [
       "['up', 'right', 'left', 'up', 'down']"
      ]
     },
     "execution_count": 79,
     "metadata": {},
     "output_type": "execute_result"
    }
   ],
   "source": [
    "tar_list[1][:5]"
   ]
  },
  {
   "cell_type": "code",
   "execution_count": 80,
   "metadata": {},
   "outputs": [
    {
     "data": {
      "text/html": [
       "<div>\n",
       "<style scoped>\n",
       "    .dataframe tbody tr th:only-of-type {\n",
       "        vertical-align: middle;\n",
       "    }\n",
       "\n",
       "    .dataframe tbody tr th {\n",
       "        vertical-align: top;\n",
       "    }\n",
       "\n",
       "    .dataframe thead th {\n",
       "        text-align: right;\n",
       "    }\n",
       "</style>\n",
       "<table border=\"1\" class=\"dataframe\">\n",
       "  <thead>\n",
       "    <tr style=\"text-align: right;\">\n",
       "      <th></th>\n",
       "      <th>0</th>\n",
       "      <th>1</th>\n",
       "      <th>2</th>\n",
       "      <th>3</th>\n",
       "      <th>4</th>\n",
       "      <th>5</th>\n",
       "      <th>6</th>\n",
       "      <th>7</th>\n",
       "      <th>8</th>\n",
       "      <th>9</th>\n",
       "      <th>10</th>\n",
       "      <th>11</th>\n",
       "      <th>12</th>\n",
       "      <th>13</th>\n",
       "      <th>14</th>\n",
       "      <th>15</th>\n",
       "    </tr>\n",
       "  </thead>\n",
       "  <tbody>\n",
       "    <tr>\n",
       "      <th>0</th>\n",
       "      <td>0.0</td>\n",
       "      <td>2.0</td>\n",
       "      <td>0.0</td>\n",
       "      <td>0.0</td>\n",
       "      <td>0.0</td>\n",
       "      <td>0.0</td>\n",
       "      <td>2.0</td>\n",
       "      <td>0.0</td>\n",
       "      <td>0.0</td>\n",
       "      <td>0.0</td>\n",
       "      <td>0.0</td>\n",
       "      <td>0.0</td>\n",
       "      <td>0.0</td>\n",
       "      <td>0.0</td>\n",
       "      <td>0.0</td>\n",
       "      <td>0.0</td>\n",
       "    </tr>\n",
       "    <tr>\n",
       "      <th>1</th>\n",
       "      <td>0.0</td>\n",
       "      <td>2.0</td>\n",
       "      <td>2.0</td>\n",
       "      <td>0.0</td>\n",
       "      <td>0.0</td>\n",
       "      <td>0.0</td>\n",
       "      <td>0.0</td>\n",
       "      <td>4.0</td>\n",
       "      <td>0.0</td>\n",
       "      <td>0.0</td>\n",
       "      <td>0.0</td>\n",
       "      <td>0.0</td>\n",
       "      <td>0.0</td>\n",
       "      <td>0.0</td>\n",
       "      <td>0.0</td>\n",
       "      <td>0.0</td>\n",
       "    </tr>\n",
       "    <tr>\n",
       "      <th>2</th>\n",
       "      <td>0.0</td>\n",
       "      <td>0.0</td>\n",
       "      <td>0.0</td>\n",
       "      <td>4.0</td>\n",
       "      <td>0.0</td>\n",
       "      <td>0.0</td>\n",
       "      <td>0.0</td>\n",
       "      <td>4.0</td>\n",
       "      <td>0.0</td>\n",
       "      <td>0.0</td>\n",
       "      <td>0.0</td>\n",
       "      <td>0.0</td>\n",
       "      <td>0.0</td>\n",
       "      <td>0.0</td>\n",
       "      <td>4.0</td>\n",
       "      <td>0.0</td>\n",
       "    </tr>\n",
       "    <tr>\n",
       "      <th>3</th>\n",
       "      <td>4.0</td>\n",
       "      <td>0.0</td>\n",
       "      <td>0.0</td>\n",
       "      <td>0.0</td>\n",
       "      <td>4.0</td>\n",
       "      <td>0.0</td>\n",
       "      <td>0.0</td>\n",
       "      <td>0.0</td>\n",
       "      <td>0.0</td>\n",
       "      <td>0.0</td>\n",
       "      <td>0.0</td>\n",
       "      <td>0.0</td>\n",
       "      <td>4.0</td>\n",
       "      <td>0.0</td>\n",
       "      <td>0.0</td>\n",
       "      <td>2.0</td>\n",
       "    </tr>\n",
       "    <tr>\n",
       "      <th>4</th>\n",
       "      <td>8.0</td>\n",
       "      <td>0.0</td>\n",
       "      <td>0.0</td>\n",
       "      <td>2.0</td>\n",
       "      <td>4.0</td>\n",
       "      <td>0.0</td>\n",
       "      <td>0.0</td>\n",
       "      <td>0.0</td>\n",
       "      <td>2.0</td>\n",
       "      <td>0.0</td>\n",
       "      <td>0.0</td>\n",
       "      <td>0.0</td>\n",
       "      <td>0.0</td>\n",
       "      <td>0.0</td>\n",
       "      <td>0.0</td>\n",
       "      <td>0.0</td>\n",
       "    </tr>\n",
       "  </tbody>\n",
       "</table>\n",
       "</div>"
      ],
      "text/plain": [
       "    0    1    2    3    4    5    6    7    8    9    10   11   12   13   14  \\\n",
       "0  0.0  2.0  0.0  0.0  0.0  0.0  2.0  0.0  0.0  0.0  0.0  0.0  0.0  0.0  0.0   \n",
       "1  0.0  2.0  2.0  0.0  0.0  0.0  0.0  4.0  0.0  0.0  0.0  0.0  0.0  0.0  0.0   \n",
       "2  0.0  0.0  0.0  4.0  0.0  0.0  0.0  4.0  0.0  0.0  0.0  0.0  0.0  0.0  4.0   \n",
       "3  4.0  0.0  0.0  0.0  4.0  0.0  0.0  0.0  0.0  0.0  0.0  0.0  4.0  0.0  0.0   \n",
       "4  8.0  0.0  0.0  2.0  4.0  0.0  0.0  0.0  2.0  0.0  0.0  0.0  0.0  0.0  0.0   \n",
       "\n",
       "    15  \n",
       "0  0.0  \n",
       "1  0.0  \n",
       "2  0.0  \n",
       "3  2.0  \n",
       "4  0.0  "
      ]
     },
     "execution_count": 80,
     "metadata": {},
     "output_type": "execute_result"
    }
   ],
   "source": [
    "mov_df[1].head(5)"
   ]
  },
  {
   "cell_type": "code",
   "execution_count": 82,
   "metadata": {},
   "outputs": [
    {
     "name": "stdout",
     "output_type": "stream",
     "text": [
      "[1408.  760.  756.  960. 1136. 1212. 1280.  628. 1172. 2124.]\n",
      "[363 919 848 249]\n"
     ]
    }
   ],
   "source": [
    "sess_points = np.array(sess_points)\n",
    "print(sess_points[:10])\n",
    "bests = sess_points.argsort()[-4:][::-1]\n",
    "print(bests)"
   ]
  },
  {
   "cell_type": "code",
   "execution_count": 84,
   "metadata": {},
   "outputs": [
    {
     "data": {
      "text/plain": [
       "3112.0"
      ]
     },
     "execution_count": 84,
     "metadata": {},
     "output_type": "execute_result"
    }
   ],
   "source": [
    "sess_points[919]"
   ]
  },
  {
   "cell_type": "code",
   "execution_count": 101,
   "metadata": {},
   "outputs": [],
   "source": [
    "def select_rand_sessions(n_sessions, rand_ratio):\n",
    "    return random.sample(range(n_sessions), round(n_sessions * rand_ratio))"
   ]
  },
  {
   "cell_type": "code",
   "execution_count": 102,
   "metadata": {},
   "outputs": [],
   "source": [
    "def select_elite_sessions(points_arr, best_ratio):\n",
    "    return points_arr.argsort()[-round(len(points_arr) * best_ratio):][::-1]"
   ]
  },
  {
   "cell_type": "code",
   "execution_count": 107,
   "metadata": {},
   "outputs": [
    {
     "name": "stdout",
     "output_type": "stream",
     "text": [
      "100\n",
      "0\n",
      "100\n"
     ]
    }
   ],
   "source": [
    "elite_sessions = select_elite_sessions(sess_points, 0.1)\n",
    "print(len(elite_sessions))\n",
    "rand_sessions = select_rand_sessions(len(sess_points), 0)\n",
    "print(len(rand_sessions))\n",
    "sess_to_select = list(set(np.append(elite_sessions, rand_sessions)))\n",
    "print(len(sess_to_select))\n",
    "sess_to_select = list(map(int, sess_to_select))"
   ]
  },
  {
   "cell_type": "code",
   "execution_count": 108,
   "metadata": {},
   "outputs": [],
   "source": [
    "Xtrain = pd.DataFrame()\n",
    "ytrain = list()"
   ]
  },
  {
   "cell_type": "code",
   "execution_count": 109,
   "metadata": {},
   "outputs": [],
   "source": [
    "for sess in sess_to_select:\n",
    "    Xtrain = Xtrain.append(mov_df[sess], ignore_index=True)\n",
    "    ytrain.append(tar_list[sess])"
   ]
  },
  {
   "cell_type": "code",
   "execution_count": 110,
   "metadata": {},
   "outputs": [],
   "source": [
    "unlist = lambda list_of_lists: [y for x in list_of_lists for y in x]"
   ]
  },
  {
   "cell_type": "code",
   "execution_count": 111,
   "metadata": {},
   "outputs": [
    {
     "name": "stdout",
     "output_type": "stream",
     "text": [
      "['up', 'left', 'right', 'up', 'down', 'up', 'up', 'down', 'down', 'down']\n",
      "22903\n",
      "[0, 2, 3, 0, 1, 0, 0, 1, 1, 1]\n"
     ]
    }
   ],
   "source": [
    "ytrain = unlist(ytrain)\n",
    "print(ytrain[:10])\n",
    "ytrain = list(map(dict_moves.get, ytrain))\n",
    "print(len(ytrain))\n",
    "print(ytrain[:10])"
   ]
  },
  {
   "cell_type": "code",
   "execution_count": 112,
   "metadata": {},
   "outputs": [
    {
     "data": {
      "text/plain": [
       "22903"
      ]
     },
     "execution_count": 112,
     "metadata": {},
     "output_type": "execute_result"
    }
   ],
   "source": [
    "len(Xtrain)"
   ]
  },
  {
   "cell_type": "code",
   "execution_count": 121,
   "metadata": {},
   "outputs": [
    {
     "name": "stdout",
     "output_type": "stream",
     "text": [
      "_________________________________________________________________\n",
      "Layer (type)                 Output Shape              Param #   \n",
      "=================================================================\n",
      "input_13 (InputLayer)        (None, 16)                0         \n",
      "_________________________________________________________________\n",
      "dense_52 (Dense)             (None, 32)                544       \n",
      "_________________________________________________________________\n",
      "dense_53 (Dense)             (None, 16)                528       \n",
      "_________________________________________________________________\n",
      "dense_54 (Dense)             (None, 4)                 68        \n",
      "=================================================================\n",
      "Total params: 1,140\n",
      "Trainable params: 1,140\n",
      "Non-trainable params: 0\n",
      "_________________________________________________________________\n",
      "\n",
      "Epoch 00001: val_acc improved from -inf to 0.26021, saving model to ../models_saved/iter1.hdf5\n",
      "\n",
      "Epoch 00002: val_acc did not improve from 0.26021\n",
      "\n",
      "Epoch 00003: val_acc did not improve from 0.26021\n",
      "\n",
      "Epoch 00004: val_acc did not improve from 0.26021\n",
      "\n",
      "Epoch 00005: val_acc did not improve from 0.26021\n",
      "\n",
      "Epoch 00006: val_acc did not improve from 0.26021\n",
      "\n",
      "Epoch 00007: val_acc did not improve from 0.26021\n",
      "\n",
      "Epoch 00008: val_acc did not improve from 0.26021\n",
      "\n",
      "Epoch 00009: val_acc did not improve from 0.26021\n",
      "\n",
      "Epoch 00010: val_acc did not improve from 0.26021\n",
      "\n",
      "Epoch 00011: val_acc did not improve from 0.26021\n",
      "\n",
      "Epoch 00012: val_acc did not improve from 0.26021\n",
      "\n",
      "Epoch 00013: val_acc did not improve from 0.26021\n",
      "\n",
      "Epoch 00014: val_acc did not improve from 0.26021\n",
      "\n",
      "Epoch 00015: val_acc did not improve from 0.26021\n",
      "\n",
      "Epoch 00016: val_acc did not improve from 0.26021\n",
      "\n",
      "Epoch 00017: val_acc did not improve from 0.26021\n",
      "\n",
      "Epoch 00018: val_acc did not improve from 0.26021\n",
      "\n",
      "Epoch 00019: val_acc did not improve from 0.26021\n",
      "\n",
      "Epoch 00020: val_acc did not improve from 0.26021\n",
      "\n",
      "Epoch 00021: val_acc did not improve from 0.26021\n",
      "\n",
      "Epoch 00022: val_acc did not improve from 0.26021\n",
      "\n",
      "Epoch 00023: val_acc did not improve from 0.26021\n",
      "\n",
      "Epoch 00024: val_acc did not improve from 0.26021\n",
      "\n",
      "Epoch 00025: val_acc did not improve from 0.26021\n",
      "\n",
      "Epoch 00026: val_acc did not improve from 0.26021\n",
      "\n",
      "Epoch 00027: val_acc did not improve from 0.26021\n",
      "\n",
      "Epoch 00028: val_acc did not improve from 0.26021\n",
      "\n",
      "Epoch 00029: val_acc did not improve from 0.26021\n",
      "\n",
      "Epoch 00030: val_acc did not improve from 0.26021\n",
      "\n",
      "Epoch 00031: val_acc did not improve from 0.26021\n",
      "\n",
      "Epoch 00032: val_acc did not improve from 0.26021\n",
      "\n",
      "Epoch 00033: val_acc did not improve from 0.26021\n",
      "\n",
      "Epoch 00034: val_acc did not improve from 0.26021\n",
      "\n",
      "Epoch 00035: val_acc did not improve from 0.26021\n",
      "\n",
      "Epoch 00036: val_acc did not improve from 0.26021\n",
      "\n",
      "Epoch 00037: val_acc did not improve from 0.26021\n",
      "\n",
      "Epoch 00038: val_acc did not improve from 0.26021\n",
      "\n",
      "Epoch 00039: val_acc did not improve from 0.26021\n",
      "\n",
      "Epoch 00040: val_acc did not improve from 0.26021\n",
      "\n",
      "Epoch 00041: val_acc did not improve from 0.26021\n",
      "\n",
      "Epoch 00042: val_acc improved from 0.26021 to 0.26217, saving model to ../models_saved/iter1.hdf5\n",
      "\n",
      "Epoch 00043: val_acc did not improve from 0.26217\n",
      "\n",
      "Epoch 00044: val_acc did not improve from 0.26217\n",
      "\n",
      "Epoch 00045: val_acc did not improve from 0.26217\n",
      "\n",
      "Epoch 00046: val_acc did not improve from 0.26217\n",
      "\n",
      "Epoch 00047: val_acc did not improve from 0.26217\n",
      "\n",
      "Epoch 00048: val_acc did not improve from 0.26217\n",
      "\n",
      "Epoch 00049: val_acc did not improve from 0.26217\n",
      "\n",
      "Epoch 00050: val_acc did not improve from 0.26217\n",
      "\n",
      "Epoch 00051: val_acc did not improve from 0.26217\n",
      "\n",
      "Epoch 00052: val_acc did not improve from 0.26217\n",
      "\n",
      "Epoch 00053: val_acc did not improve from 0.26217\n",
      "\n",
      "Epoch 00054: val_acc improved from 0.26217 to 0.26457, saving model to ../models_saved/iter1.hdf5\n",
      "\n",
      "Epoch 00055: val_acc did not improve from 0.26457\n",
      "\n",
      "Epoch 00056: val_acc did not improve from 0.26457\n",
      "\n",
      "Epoch 00057: val_acc did not improve from 0.26457\n",
      "\n",
      "Epoch 00058: val_acc did not improve from 0.26457\n",
      "\n",
      "Epoch 00059: val_acc did not improve from 0.26457\n",
      "\n",
      "Epoch 00060: val_acc did not improve from 0.26457\n",
      "\n",
      "Epoch 00061: val_acc did not improve from 0.26457\n",
      "\n",
      "Epoch 00062: val_acc did not improve from 0.26457\n",
      "\n",
      "Epoch 00063: val_acc did not improve from 0.26457\n",
      "\n",
      "Epoch 00064: val_acc did not improve from 0.26457\n",
      "\n",
      "Epoch 00065: val_acc did not improve from 0.26457\n",
      "\n",
      "Epoch 00066: val_acc did not improve from 0.26457\n",
      "\n",
      "Epoch 00067: val_acc did not improve from 0.26457\n",
      "\n",
      "Epoch 00068: val_acc did not improve from 0.26457\n",
      "\n",
      "Epoch 00069: val_acc did not improve from 0.26457\n",
      "\n",
      "Epoch 00070: val_acc did not improve from 0.26457\n",
      "\n",
      "Epoch 00071: val_acc did not improve from 0.26457\n",
      "\n",
      "Epoch 00072: val_acc did not improve from 0.26457\n",
      "\n",
      "Epoch 00073: val_acc did not improve from 0.26457\n",
      "\n",
      "Epoch 00074: val_acc did not improve from 0.26457\n",
      "\n",
      "Epoch 00075: val_acc did not improve from 0.26457\n",
      "\n",
      "Epoch 00076: val_acc did not improve from 0.26457\n",
      "\n",
      "Epoch 00077: val_acc did not improve from 0.26457\n",
      "\n",
      "Epoch 00078: val_acc did not improve from 0.26457\n",
      "\n",
      "Epoch 00079: val_acc did not improve from 0.26457\n",
      "\n",
      "Epoch 00080: val_acc did not improve from 0.26457\n",
      "\n",
      "Epoch 00081: val_acc did not improve from 0.26457\n",
      "\n",
      "Epoch 00082: val_acc did not improve from 0.26457\n",
      "\n",
      "Epoch 00083: val_acc did not improve from 0.26457\n",
      "\n",
      "Epoch 00084: val_acc did not improve from 0.26457\n",
      "\n",
      "Epoch 00085: val_acc did not improve from 0.26457\n",
      "\n",
      "Epoch 00086: val_acc did not improve from 0.26457\n",
      "\n",
      "Epoch 00087: val_acc did not improve from 0.26457\n",
      "\n",
      "Epoch 00088: val_acc did not improve from 0.26457\n",
      "\n",
      "Epoch 00089: val_acc did not improve from 0.26457\n",
      "\n",
      "Epoch 00090: val_acc did not improve from 0.26457\n",
      "\n",
      "Epoch 00091: val_acc did not improve from 0.26457\n",
      "\n",
      "Epoch 00092: val_acc did not improve from 0.26457\n",
      "\n",
      "Epoch 00093: val_acc did not improve from 0.26457\n",
      "\n",
      "Epoch 00094: val_acc did not improve from 0.26457\n",
      "\n",
      "Epoch 00095: val_acc did not improve from 0.26457\n",
      "\n",
      "Epoch 00096: val_acc did not improve from 0.26457\n",
      "\n",
      "Epoch 00097: val_acc did not improve from 0.26457\n",
      "\n",
      "Epoch 00098: val_acc did not improve from 0.26457\n",
      "\n",
      "Epoch 00099: val_acc did not improve from 0.26457\n",
      "\n",
      "Epoch 00100: val_acc did not improve from 0.26457\n",
      "\n",
      "Epoch 00101: val_acc did not improve from 0.26457\n",
      "\n",
      "Epoch 00102: val_acc did not improve from 0.26457\n",
      "\n",
      "Epoch 00103: val_acc did not improve from 0.26457\n",
      "\n",
      "Epoch 00104: val_acc did not improve from 0.26457\n",
      "\n",
      "Epoch 00105: val_acc did not improve from 0.26457\n",
      "\n",
      "Epoch 00106: val_acc did not improve from 0.26457\n",
      "\n",
      "Epoch 00107: val_acc did not improve from 0.26457\n",
      "\n",
      "Epoch 00108: val_acc did not improve from 0.26457\n",
      "\n",
      "Epoch 00109: val_acc did not improve from 0.26457\n",
      "\n",
      "Epoch 00110: val_acc did not improve from 0.26457\n",
      "\n",
      "Epoch 00111: val_acc did not improve from 0.26457\n",
      "\n",
      "Epoch 00112: val_acc did not improve from 0.26457\n",
      "\n",
      "Epoch 00113: val_acc did not improve from 0.26457\n",
      "\n",
      "Epoch 00114: val_acc did not improve from 0.26457\n",
      "\n",
      "Epoch 00115: val_acc did not improve from 0.26457\n",
      "\n",
      "Epoch 00116: val_acc did not improve from 0.26457\n",
      "\n",
      "Epoch 00117: val_acc did not improve from 0.26457\n",
      "\n",
      "Epoch 00118: val_acc did not improve from 0.26457\n",
      "\n",
      "Epoch 00119: val_acc did not improve from 0.26457\n",
      "\n",
      "Epoch 00120: val_acc did not improve from 0.26457\n",
      "\n",
      "Epoch 00121: val_acc did not improve from 0.26457\n",
      "\n",
      "Epoch 00122: val_acc did not improve from 0.26457\n",
      "\n",
      "Epoch 00123: val_acc did not improve from 0.26457\n",
      "\n",
      "Epoch 00124: val_acc did not improve from 0.26457\n",
      "\n",
      "Epoch 00125: val_acc did not improve from 0.26457\n",
      "\n",
      "Epoch 00126: val_acc did not improve from 0.26457\n",
      "\n",
      "Epoch 00127: val_acc did not improve from 0.26457\n",
      "\n",
      "Epoch 00128: val_acc did not improve from 0.26457\n",
      "\n",
      "Epoch 00129: val_acc did not improve from 0.26457\n",
      "Epoch 00129: early stopping\n"
     ]
    }
   ],
   "source": [
    "np.random.seed(42)\n",
    "num_class = 4\n",
    "\n",
    "iter_num = 1\n",
    "\n",
    "inputs = Input(shape=(16, ))\n",
    "x = Dense(16, activation='linear')(inputs)\n",
    "x = Dense(32, activation='linear')(inputs)\n",
    "x = Dense(32, activation='linear')(inputs)\n",
    "x = Dense(32, activation='linear')(inputs)\n",
    "x = Dense(16, activation='linear')(x)\n",
    "predictions = Dense(num_class, activation='softmax')(x)\n",
    "model = Model(inputs=[inputs], outputs=predictions)\n",
    "\n",
    "model.compile(optimizer='adam',\n",
    "              loss='categorical_crossentropy',\n",
    "              metrics=['acc'])\n",
    "\n",
    "model.summary()\n",
    "\n",
    "checkpointer = ModelCheckpoint(str('../models_saved/' + 'iter' + str(iter_num) + '.hdf5'),\n",
    "                               monitor='val_acc', verbose=1, save_best_only=True, mode='max')\n",
    "es= EarlyStopping(monitor='val_loss', mode='min', verbose=1, patience=20)\n",
    "history = model.fit([Xtrain],\n",
    "                    y=to_categorical(ytrain), verbose=0,\n",
    "                    batch_size=64,\n",
    "                    validation_split=0.2,\n",
    "                    shuffle=True, epochs=500,\n",
    "                    callbacks=[checkpointer, es])"
   ]
  },
  {
   "cell_type": "code",
   "execution_count": null,
   "metadata": {},
   "outputs": [],
   "source": [
    "def get_predicted_field(model, n_sessions=100, filed_size=4, save_df=False): # finish me!!!!!!!!!\n",
    "    sessions_points = []\n",
    "    sessions_bests = []\n",
    "    sessions_moves = []\n",
    "    if save_df:\n",
    "        moves_df = list()\n",
    "        targets_list = list()\n",
    "    for i in range(n_sessions):\n",
    "        if save_df:\n",
    "            sess_moves_df = pd.DataFrame(columns=range(filed_size ** 2))\n",
    "            sess_targets_list = list()\n",
    "        points = 0\n",
    "        num_moves = 0\n",
    "        field = get_initial_field(filed_size)\n",
    "        while True:\n",
    "            move = ['up', 'down', 'right', 'left'][randint(0, 3)]\n",
    "            if save_df:\n",
    "                sess_moves_df = sess_moves_df.append(pd.Series(field.flatten(), index=range(filed_size ** 2)),\n",
    "                                                     ignore_index=True)\n",
    "                sess_targets_list.append(move)\n",
    "            field_moved, new_points = move_field(field, move)\n",
    "            points += new_points\n",
    "            num_moves += 1\n",
    "            if not np.array_equal(field_moved, field):\n",
    "                field = insert_new_cell(field_moved)\n",
    "            if field_stucked(field):\n",
    "                sessions_points.append(points)\n",
    "                sessions_bests.append(np.max(field))\n",
    "                sessions_moves.append(np.max(num_moves))\n",
    "                if save_df:\n",
    "                    moves_df.append(sess_moves_df)\n",
    "                    targets_list.append(sess_targets_list)\n",
    "                break\n",
    "    if save_df:\n",
    "        return sessions_points, sessions_bests, sessions_moves, moves_df, targets_list\n",
    "    else:\n",
    "        return sessions_points, sessions_bests, sessions_moves"
   ]
  },
  {
   "cell_type": "code",
   "execution_count": 153,
   "metadata": {},
   "outputs": [],
   "source": [
    "field = get_initial_field(4)"
   ]
  },
  {
   "cell_type": "code",
   "execution_count": 155,
   "metadata": {},
   "outputs": [
    {
     "data": {
      "text/plain": [
       "array([[0., 0., 0., 2., 0., 0., 0., 0., 0., 0., 0., 0., 0., 0., 0., 2.]])"
      ]
     },
     "execution_count": 155,
     "metadata": {},
     "output_type": "execute_result"
    }
   ],
   "source": [
    "field = np.array(field.flatten())\n",
    "field.shape = (1, 16)\n",
    "field"
   ]
  },
  {
   "cell_type": "code",
   "execution_count": 156,
   "metadata": {},
   "outputs": [
    {
     "data": {
      "text/plain": [
       "array([[0.24564777, 0.24676466, 0.25639886, 0.25118867]], dtype=float32)"
      ]
     },
     "execution_count": 156,
     "metadata": {},
     "output_type": "execute_result"
    }
   ],
   "source": [
    "model.predict(field)"
   ]
  },
  {
   "cell_type": "code",
   "execution_count": null,
   "metadata": {},
   "outputs": [],
   "source": []
  }
 ],
 "metadata": {
  "kernelspec": {
   "display_name": "Python 3",
   "language": "python",
   "name": "python3"
  },
  "language_info": {
   "codemirror_mode": {
    "name": "ipython",
    "version": 3
   },
   "file_extension": ".py",
   "mimetype": "text/x-python",
   "name": "python",
   "nbconvert_exporter": "python",
   "pygments_lexer": "ipython3",
   "version": "3.6.8"
  }
 },
 "nbformat": 4,
 "nbformat_minor": 2
}
